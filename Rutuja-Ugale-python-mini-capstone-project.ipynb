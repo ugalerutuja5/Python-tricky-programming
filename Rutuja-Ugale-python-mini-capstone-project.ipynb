{
 "cells": [
  {
   "cell_type": "markdown",
   "id": "d8efd819",
   "metadata": {},
   "source": [
    "## Mini Capstone Python Questions"
   ]
  },
  {
   "cell_type": "markdown",
   "id": "bddf48b7",
   "metadata": {},
   "source": [
    "#### Q1)  Write a function named ‘MulTable(n)’ that takes one positive  integer ‘n’ as its parameter and prints out the multiplication table up until number 10 for all the numbers starting from the number 2  and till the integer ‘n’, in the following format:"
   ]
  },
  {
   "cell_type": "code",
   "execution_count": 9,
   "id": "25a798bd",
   "metadata": {},
   "outputs": [],
   "source": [
    "def MulTable(n): # define a function name as MulTable n is a parameter\n",
    "    for i in range(1, 11): # fix a range for multiply each number from 1 to 10 it excluded last number so we take 11\n",
    "        for j in range(2,n+1): # fix a for take multiplication upto n it rxcluded last number so we take n+1\n",
    "            print(j, 'X', i, '=', j*i,end=' ') # the end parameter used to avoid each output in new line\n",
    "        print() # again used print because when we use end it gives all output in one line so avoid that thing "
   ]
  },
  {
   "cell_type": "code",
   "execution_count": 12,
   "id": "c2f705f7",
   "metadata": {},
   "outputs": [
    {
     "name": "stdout",
     "output_type": "stream",
     "text": [
      "2 X 1 = 2 3 X 1 = 3 4 X 1 = 4 5 X 1 = 5 \n",
      "2 X 2 = 4 3 X 2 = 6 4 X 2 = 8 5 X 2 = 10 \n",
      "2 X 3 = 6 3 X 3 = 9 4 X 3 = 12 5 X 3 = 15 \n",
      "2 X 4 = 8 3 X 4 = 12 4 X 4 = 16 5 X 4 = 20 \n",
      "2 X 5 = 10 3 X 5 = 15 4 X 5 = 20 5 X 5 = 25 \n",
      "2 X 6 = 12 3 X 6 = 18 4 X 6 = 24 5 X 6 = 30 \n",
      "2 X 7 = 14 3 X 7 = 21 4 X 7 = 28 5 X 7 = 35 \n",
      "2 X 8 = 16 3 X 8 = 24 4 X 8 = 32 5 X 8 = 40 \n",
      "2 X 9 = 18 3 X 9 = 27 4 X 9 = 36 5 X 9 = 45 \n",
      "2 X 10 = 20 3 X 10 = 30 4 X 10 = 40 5 X 10 = 50 \n"
     ]
    }
   ],
   "source": [
    "MulTable(5)"
   ]
  },
  {
   "cell_type": "markdown",
   "id": "5cfb73f6",
   "metadata": {},
   "source": [
    "* outer loops determine rows and inner loop determines the columns.i used that hacks in above code."
   ]
  },
  {
   "cell_type": "markdown",
   "id": "b10c6412",
   "metadata": {},
   "source": [
    "#### Q2) Create a class String Manipulation that receives a list of words wlist at the time of object creation. The class must have the following methods:"
   ]
  },
  {
   "cell_type": "markdown",
   "id": "5c2d06c9",
   "metadata": {},
   "source": [
    "#### 1. Words_of_length(length): returns a list of all the words of length length in wlist."
   ]
  },
  {
   "cell_type": "markdown",
   "id": "648ca6ed",
   "metadata": {},
   "source": [
    "#### 2. Words_starts_with(char): returns a list of all the words that start with char in wlist."
   ]
  },
  {
   "cell_type": "markdown",
   "id": "6820240f",
   "metadata": {},
   "source": [
    "#### 3. Words_ends_with(char): returns a list of all the words that end with char in wlist"
   ]
  },
  {
   "cell_type": "markdown",
   "id": "c1b93128",
   "metadata": {},
   "source": [
    "#### 4. Palindromes: returns a list of all the words that are palindromes in wlist."
   ]
  },
  {
   "cell_type": "markdown",
   "id": "7fc16716",
   "metadata": {},
   "source": [
    "#### defination palindrome : A word, phrase, or sequence that reads the same backwards as forwards, e.g. madam or nurses run."
   ]
  },
  {
   "cell_type": "code",
   "execution_count": 3,
   "id": "79684867",
   "metadata": {},
   "outputs": [
    {
     "name": "stdout",
     "output_type": "stream",
     "text": [
      "Orginal list of strings:\n",
      "['php', 'w3r', 'Python', 'abcd', 'Java', 'aaa']\n",
      "\n",
      "List of palindromes:\n",
      "['php', 'aaa']\n"
     ]
    }
   ],
   "source": [
    "texts = [\"php\", \"w3r\", \"Python\", \"abcd\", \"Java\", \"aaa\"] # take a List\n",
    "print(\"Orginal list of strings:\") # take a orignal list\n",
    "print(texts)  # print original list\n",
    "result = list(filter(lambda x: (x == \"\".join(reversed(x))), texts)) \n",
    "print(\"\\nList of palindromes:\") # print palindrome\n",
    "print(result) "
   ]
  },
  {
   "cell_type": "markdown",
   "id": "3685072b",
   "metadata": {},
   "source": [
    "#### 5. Total_words: returns the number of words in wlist."
   ]
  },
  {
   "cell_type": "code",
   "execution_count": 2,
   "id": "f8d79c07",
   "metadata": {},
   "outputs": [
    {
     "name": "stdout",
     "output_type": "stream",
     "text": [
      "please enter string: 'my name is rutuja'\n",
      "Total number of words in the string =  4\n"
     ]
    }
   ],
   "source": [
    "# python program to count total number of words in a string\n",
    "str1 = input('please enter string: ') # take input string by user\n",
    "total = 1 # define a total \n",
    "for i in range(len(str1)): #take a for loop for each i in string\n",
    "    if(str1[i] == ' ' or str1 == '\\n' or str1 == '\\t'): # take a condition\n",
    "        total = total + 1\n",
    "print('Total number of words in the string = ', total) # print the output"
   ]
  },
  {
   "cell_type": "markdown",
   "id": "99da40f8",
   "metadata": {},
   "source": [
    "#### 6. Longest_word: that returns the longest length word in wlist. if list wlist has more than one longest word then return the first one."
   ]
  },
  {
   "cell_type": "code",
   "execution_count": 9,
   "id": "5f4c3bc2",
   "metadata": {},
   "outputs": [
    {
     "name": "stdout",
     "output_type": "stream",
     "text": [
      "Enter a List:'Rutuja is a friend of Tanuja'\n",
      "Rutuja\n"
     ]
    }
   ],
   "source": [
    "# First split a line\n",
    "list = eval(input('Enter a List:')) # take a string in list\n",
    "max = 0 # difine a max\n",
    "for i in list.split(): # using for loop to check condition\n",
    "    if(len(i)>max and i.isalpha()): # take a condition lenth of each i in list is greater than 0\n",
    "        max = len(i) # and take another condition\n",
    "        w = i \n",
    "print(w)"
   ]
  },
  {
   "cell_type": "markdown",
   "id": "dc211cad",
   "metadata": {},
   "source": [
    "#### 7. Smallest_word: that returns the smallest length word in wlist. if list wlist has more than one smallest word then return the first one."
   ]
  },
  {
   "cell_type": "markdown",
   "id": "22f87bf7",
   "metadata": {},
   "source": [
    "#### 8. Count(word): that returns the total number of occurrences of word in wlist.\n",
    "\n"
   ]
  },
  {
   "cell_type": "code",
   "execution_count": 1,
   "id": "f232bad0",
   "metadata": {},
   "outputs": [
    {
     "name": "stdout",
     "output_type": "stream",
     "text": [
      "\"hello\" appears 3 time(s)\n",
      "\"howdy\" appears 1 time(s)\n"
     ]
    }
   ],
   "source": [
    "def count_occurrence(words, word_to_count): # define a function count occurence\n",
    "    count = 0 # take a object\n",
    "    for word in words: # consider a for loop to take each word in list\n",
    "        if word == word_to_count: # take a condition\n",
    "          # update counter variable\n",
    "            count = count + 1\n",
    "    return count\n",
    "words = ['hello', 'goodbye', 'howdy', 'hello', 'hello', 'hi', 'bye']\n",
    "print(f'\"hello\" appears {count_occurrence(words, \"hello\")} time(s)')\n",
    "print(f'\"howdy\" appears {count_occurrence(words, \"howdy\")} time(s)')"
   ]
  },
  {
   "cell_type": "markdown",
   "id": "dccc2a81",
   "metadata": {},
   "source": [
    "### Q.3. The pearson correlation coefficient, r(x,y) is a measure of association between two continous variables x and y.The correlation r(x,y) is given defined in the mathematical form."
   ]
  },
  {
   "cell_type": "markdown",
   "id": "a01ca8f3",
   "metadata": {},
   "source": [
    "### n = number of datapoints(or count of numbers)\n",
    "### x(i) = i th value of x, i = 1,2, 3,.....,n\n",
    "### y(i) = i th value of y, i = 1,2, 3,.....,n\n",
    "### x bar = mean or avg value of var x\n",
    "### y bar = mean or avg value of var y\n"
   ]
  },
  {
   "cell_type": "code",
   "execution_count": 1,
   "id": "4e5693b6",
   "metadata": {},
   "outputs": [],
   "source": [
    "# import required library\n",
    "import math\n",
    "# define mean value of variable\n",
    "def mean(x):\n",
    "    assert len(x) > 0 # consider the length of x\n",
    "    return float(sum(x)) / len(x) # summation of total number divide total number\n",
    "# define pearson correlation for x and y\n",
    "def pearson_correlation(x, y):\n",
    "    assert len(x) == len(y) # number of data points(or count of numbers)\n",
    "    n = len(x) # define n is length of x i.e. number of data points\n",
    "    assert n > 0\n",
    "    mean_x = mean(x) # define mean of x\n",
    "    mean_y = mean(y) # define mean of y\n",
    "    diffprod = 0 \n",
    "    xdiff1 = 0\n",
    "    ydiff1 = 0\n",
    "    for i in range(n):\n",
    "        xdiff = x[i] - mean_x # x difference each x - mean of x\n",
    "        ydiff = y[i] - mean_y # y diff each y - mean of y\n",
    "        diffprod += xdiff * ydiff # difference product is x diff * y diff\n",
    "        xdiff1 += xdiff * xdiff\n",
    "        ydiff1 += ydiff * ydiff\n",
    "\n",
    "    return diffprod / math.sqrt(xdiff1 * ydiff1)"
   ]
  },
  {
   "cell_type": "code",
   "execution_count": 2,
   "id": "311f2848",
   "metadata": {},
   "outputs": [
    {
     "data": {
      "text/plain": [
       "0.8944271909999159"
      ]
     },
     "execution_count": 2,
     "metadata": {},
     "output_type": "execute_result"
    }
   ],
   "source": [
    "pearson_correlation([1,2,3,4,5,6,7,8,9], [1,2,3,2,3,4,3,4,5])"
   ]
  },
  {
   "cell_type": "markdown",
   "id": "ea2d47c0",
   "metadata": {},
   "source": [
    "### Q.4. write a python program to print the following pattern.the number of * in the first line taken from the user input(odd number)"
   ]
  },
  {
   "cell_type": "code",
   "execution_count": 8,
   "id": "2569a01c",
   "metadata": {},
   "outputs": [
    {
     "name": "stdout",
     "output_type": "stream",
     "text": [
      "Enter Pattern Odd Rows = 15\n",
      "The Star Pattern\n",
      "***************\n",
      "**     *     **\n",
      "* *    *    * *\n",
      "*  *   *   *  *\n",
      "*   *  *  *   *\n",
      "*    * * *    *\n",
      "*     ***     *\n",
      "***************\n",
      "*     ***     *\n",
      "*    * * *    *\n",
      "*   *  *  *   *\n",
      "*  *   *   *  *\n",
      "* *    *    * *\n",
      "**     *     **\n",
      "***************\n"
     ]
    }
   ],
   "source": [
    "# Python Program to Print Star Pattern\n",
    " rows = int(input(\"Enter Pattern Odd Rows = \")) # the odd number enter by user\n",
    "print(\"The Star Pattern\") # define a star pattern\n",
    "for i in range(0, rows):\n",
    "    for j in range(0, rows):\n",
    "        if(i==0 or i== rows-1 or i==(rows-1)/2 or j==0 or j==(rows-1)/2 or j== rows-1)or(i == j or j == rows - 1 - i):\n",
    "            print('*', end = '')\n",
    "        else:\n",
    "            print(' ', end = '')\n",
    "    print()"
   ]
  },
  {
   "cell_type": "markdown",
   "id": "e5909b55",
   "metadata": {},
   "source": [
    "###  Q.5. Write a program to accept a string s from user that contains (,),{,},[,] in it.\n",
    "* Note [] {} () are the opening and closing brackets which needs to be verified.All the opening brackets should be closed with the same type of closing bracket.\n",
    "### print True all the brackets are open and closed in a proper manner. otherwise print false."
   ]
  },
  {
   "cell_type": "code",
   "execution_count": 1,
   "id": "4896d8aa",
   "metadata": {},
   "outputs": [],
   "source": [
    "open_list = [\"[\",\"{\",\"(\"] # create a list for open brackets\n",
    "close_list = [\"]\",\"}\",\")\"] # create a list for closed brackets\n",
    "def check(s): # define a check function for a string s\n",
    "    string = [] # create a emty list\n",
    "    for i in s: # creat a for loop for each i in string s\n",
    "        if i in open_list: # using if to take condition for open list\n",
    "            string.append(i) # using append function to add element in list string if above condition satiesfied.\n",
    "        elif i in close_list: # using if to check condition for closed list\n",
    "            pos = close_list.index(i) # create a object for closed list\n",
    "            if ((len(string) > 0) and # take a condition lenth of string list is greater than 0\n",
    "                (open_list[pos] == string[len(string)-1])): # using and for join two condition & and eleminate length of string if simillar index closed bracket found \n",
    "                string.pop() # using pop function to delete element in list string if above two condition satiesfied\n",
    "            else:\n",
    "                return \"False\" # if length of string is greater than 0 gives output is false\n",
    "    if len(string) == 0:  # take a condition After adding and eliminating element then length of string is 0\n",
    "        return \"True\" # then print a output True\n",
    "    else:\n",
    "        return \"False\" # suppose above conditon not satiesfied print output is False."
   ]
  },
  {
   "cell_type": "code",
   "execution_count": 2,
   "id": "47fe28af",
   "metadata": {},
   "outputs": [
    {
     "data": {
      "text/plain": [
       "'False'"
      ]
     },
     "execution_count": 2,
     "metadata": {},
     "output_type": "execute_result"
    }
   ],
   "source": [
    "check('(jhdhd}(sdddd){)})')"
   ]
  },
  {
   "cell_type": "code",
   "execution_count": 5,
   "id": "55350762",
   "metadata": {},
   "outputs": [
    {
     "data": {
      "text/plain": [
       "'False'"
      ]
     },
     "execution_count": 5,
     "metadata": {},
     "output_type": "execute_result"
    }
   ],
   "source": [
    "check('a(h{g$2[j)h]h})')"
   ]
  },
  {
   "cell_type": "code",
   "execution_count": 6,
   "id": "afd155d7",
   "metadata": {},
   "outputs": [
    {
     "data": {
      "text/plain": [
       "'True'"
      ]
     },
     "execution_count": 6,
     "metadata": {},
     "output_type": "execute_result"
    }
   ],
   "source": [
    "check('{abc(ddd)ee[ff()dd]ee}')"
   ]
  },
  {
   "cell_type": "code",
   "execution_count": null,
   "id": "8b2da509",
   "metadata": {},
   "outputs": [],
   "source": []
  }
 ],
 "metadata": {
  "kernelspec": {
   "display_name": "Python 3 (ipykernel)",
   "language": "python",
   "name": "python3"
  },
  "language_info": {
   "codemirror_mode": {
    "name": "ipython",
    "version": 3
   },
   "file_extension": ".py",
   "mimetype": "text/x-python",
   "name": "python",
   "nbconvert_exporter": "python",
   "pygments_lexer": "ipython3",
   "version": "3.9.7"
  }
 },
 "nbformat": 4,
 "nbformat_minor": 5
}
